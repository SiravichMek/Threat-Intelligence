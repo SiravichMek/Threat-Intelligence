{
 "cells": [
  {
   "cell_type": "code",
   "execution_count": null,
   "metadata": {},
   "outputs": [
    {
     "name": "stdout",
     "output_type": "stream",
     "text": [
      "Requirement already satisfied: flask in c:\\users\\n0true\\appdata\\local\\packages\\pythonsoftwarefoundation.python.3.11_qbz5n2kfra8p0\\localcache\\local-packages\\python311\\site-packages (3.0.3)\n",
      "Requirement already satisfied: Werkzeug>=3.0.0 in c:\\users\\n0true\\appdata\\local\\packages\\pythonsoftwarefoundation.python.3.11_qbz5n2kfra8p0\\localcache\\local-packages\\python311\\site-packages (from flask) (3.0.1)\n",
      "Requirement already satisfied: Jinja2>=3.1.2 in c:\\users\\n0true\\appdata\\local\\packages\\pythonsoftwarefoundation.python.3.11_qbz5n2kfra8p0\\localcache\\local-packages\\python311\\site-packages (from flask) (3.1.4)\n",
      "Requirement already satisfied: itsdangerous>=2.1.2 in c:\\users\\n0true\\appdata\\local\\packages\\pythonsoftwarefoundation.python.3.11_qbz5n2kfra8p0\\localcache\\local-packages\\python311\\site-packages (from flask) (2.2.0)\n",
      "Requirement already satisfied: click>=8.1.3 in c:\\users\\n0true\\appdata\\local\\packages\\pythonsoftwarefoundation.python.3.11_qbz5n2kfra8p0\\localcache\\local-packages\\python311\\site-packages (from flask) (8.1.7)\n",
      "Requirement already satisfied: blinker>=1.6.2 in c:\\users\\n0true\\appdata\\local\\packages\\pythonsoftwarefoundation.python.3.11_qbz5n2kfra8p0\\localcache\\local-packages\\python311\\site-packages (from flask) (1.8.2)\n",
      "Requirement already satisfied: colorama in c:\\users\\n0true\\appdata\\local\\packages\\pythonsoftwarefoundation.python.3.11_qbz5n2kfra8p0\\localcache\\local-packages\\python311\\site-packages (from click>=8.1.3->flask) (0.4.6)\n",
      "Requirement already satisfied: MarkupSafe>=2.0 in c:\\users\\n0true\\appdata\\local\\packages\\pythonsoftwarefoundation.python.3.11_qbz5n2kfra8p0\\localcache\\local-packages\\python311\\site-packages (from Jinja2>=3.1.2->flask) (2.1.3)\n"
     ]
    },
    {
     "name": "stderr",
     "output_type": "stream",
     "text": [
      "\n",
      "[notice] A new release of pip is available: 24.0 -> 24.3.1\n",
      "[notice] To update, run: C:\\Users\\N0trUe\\AppData\\Local\\Microsoft\\WindowsApps\\PythonSoftwareFoundation.Python.3.11_qbz5n2kfra8p0\\python.exe -m pip install --upgrade pip\n"
     ]
    },
    {
     "ename": "",
     "evalue": "",
     "output_type": "error",
     "traceback": [
      "\u001b[1;31mThe Kernel crashed while executing code in the current cell or a previous cell. \n",
      "\u001b[1;31mPlease review the code in the cell(s) to identify a possible cause of the failure. \n",
      "\u001b[1;31mClick <a href='https://aka.ms/vscodeJupyterKernelCrash'>here</a> for more info. \n",
      "\u001b[1;31mView Jupyter <a href='command:jupyter.viewOutput'>log</a> for further details."
     ]
    }
   ],
   "source": [
    "!pip3 install flask"
   ]
  },
  {
   "cell_type": "code",
   "execution_count": null,
   "metadata": {},
   "outputs": [
    {
     "name": "stdout",
     "output_type": "stream",
     "text": [
      " * Serving Flask app '__main__'\n",
      " * Debug mode: off\n"
     ]
    },
    {
     "name": "stderr",
     "output_type": "stream",
     "text": [
      "WARNING: This is a development server. Do not use it in a production deployment. Use a production WSGI server instead.\n",
      " * Running on http://127.0.0.1:8080\n",
      "Press CTRL+C to quit\n"
     ]
    }
   ],
   "source": [
    "from flask import Flask\n",
    "\n",
    "app = Flask(__name__)\n",
    "\n",
    "@app.route('/')\n",
    "def hello():\n",
    "    return \"Hello, World!\"\n",
    "\n",
    "if __name__ == '__main__':\n",
    "    app.run(host='127.0.0.1', port=8080)"
   ]
  },
  {
   "cell_type": "code",
   "execution_count": 1,
   "metadata": {},
   "outputs": [
    {
     "name": "stdout",
     "output_type": "stream",
     "text": [
      "Requirement already satisfied: joblib in c:\\users\\n0true\\appdata\\local\\packages\\pythonsoftwarefoundation.python.3.11_qbz5n2kfra8p0\\localcache\\local-packages\\python311\\site-packages (1.4.2)\n"
     ]
    },
    {
     "name": "stderr",
     "output_type": "stream",
     "text": [
      "\n",
      "[notice] A new release of pip is available: 24.0 -> 24.3.1\n",
      "[notice] To update, run: C:\\Users\\N0trUe\\AppData\\Local\\Microsoft\\WindowsApps\\PythonSoftwareFoundation.Python.3.11_qbz5n2kfra8p0\\python.exe -m pip install --upgrade pip\n"
     ]
    },
    {
     "name": "stdout",
     "output_type": "stream",
     "text": [
      "Requirement already satisfied: pandas in c:\\users\\n0true\\appdata\\local\\packages\\pythonsoftwarefoundation.python.3.11_qbz5n2kfra8p0\\localcache\\local-packages\\python311\\site-packages (2.2.3)\n",
      "Requirement already satisfied: numpy>=1.23.2 in c:\\users\\n0true\\appdata\\local\\packages\\pythonsoftwarefoundation.python.3.11_qbz5n2kfra8p0\\localcache\\local-packages\\python311\\site-packages (from pandas) (1.26.2)\n",
      "Requirement already satisfied: python-dateutil>=2.8.2 in c:\\users\\n0true\\appdata\\local\\packages\\pythonsoftwarefoundation.python.3.11_qbz5n2kfra8p0\\localcache\\local-packages\\python311\\site-packages (from pandas) (2.8.2)\n",
      "Requirement already satisfied: pytz>=2020.1 in c:\\users\\n0true\\appdata\\local\\packages\\pythonsoftwarefoundation.python.3.11_qbz5n2kfra8p0\\localcache\\local-packages\\python311\\site-packages (from pandas) (2024.2)\n",
      "Requirement already satisfied: tzdata>=2022.7 in c:\\users\\n0true\\appdata\\local\\packages\\pythonsoftwarefoundation.python.3.11_qbz5n2kfra8p0\\localcache\\local-packages\\python311\\site-packages (from pandas) (2024.2)\n",
      "Requirement already satisfied: six>=1.5 in c:\\users\\n0true\\appdata\\local\\packages\\pythonsoftwarefoundation.python.3.11_qbz5n2kfra8p0\\localcache\\local-packages\\python311\\site-packages (from python-dateutil>=2.8.2->pandas) (1.16.0)\n"
     ]
    },
    {
     "name": "stderr",
     "output_type": "stream",
     "text": [
      "\n",
      "[notice] A new release of pip is available: 24.0 -> 24.3.1\n",
      "[notice] To update, run: C:\\Users\\N0trUe\\AppData\\Local\\Microsoft\\WindowsApps\\PythonSoftwareFoundation.Python.3.11_qbz5n2kfra8p0\\python.exe -m pip install --upgrade pip\n"
     ]
    },
    {
     "name": "stdout",
     "output_type": "stream",
     "text": [
      "Requirement already satisfied: scikit-learn in c:\\users\\n0true\\appdata\\local\\packages\\pythonsoftwarefoundation.python.3.11_qbz5n2kfra8p0\\localcache\\local-packages\\python311\\site-packages (1.5.2)\n",
      "Requirement already satisfied: numpy>=1.19.5 in c:\\users\\n0true\\appdata\\local\\packages\\pythonsoftwarefoundation.python.3.11_qbz5n2kfra8p0\\localcache\\local-packages\\python311\\site-packages (from scikit-learn) (1.26.2)\n",
      "Requirement already satisfied: scipy>=1.6.0 in c:\\users\\n0true\\appdata\\local\\packages\\pythonsoftwarefoundation.python.3.11_qbz5n2kfra8p0\\localcache\\local-packages\\python311\\site-packages (from scikit-learn) (1.14.1)\n",
      "Requirement already satisfied: joblib>=1.2.0 in c:\\users\\n0true\\appdata\\local\\packages\\pythonsoftwarefoundation.python.3.11_qbz5n2kfra8p0\\localcache\\local-packages\\python311\\site-packages (from scikit-learn) (1.4.2)\n",
      "Requirement already satisfied: threadpoolctl>=3.1.0 in c:\\users\\n0true\\appdata\\local\\packages\\pythonsoftwarefoundation.python.3.11_qbz5n2kfra8p0\\localcache\\local-packages\\python311\\site-packages (from scikit-learn) (3.5.0)\n"
     ]
    },
    {
     "name": "stderr",
     "output_type": "stream",
     "text": [
      "\n",
      "[notice] A new release of pip is available: 24.0 -> 24.3.1\n",
      "[notice] To update, run: C:\\Users\\N0trUe\\AppData\\Local\\Microsoft\\WindowsApps\\PythonSoftwareFoundation.Python.3.11_qbz5n2kfra8p0\\python.exe -m pip install --upgrade pip\n"
     ]
    }
   ],
   "source": [
    "!pip3 install joblib\n",
    "!pip3 install pandas\n",
    "!pip3 install scikit-learn\n"
   ]
  },
  {
   "cell_type": "code",
   "execution_count": 2,
   "metadata": {},
   "outputs": [
    {
     "name": "stdout",
     "output_type": "stream",
     "text": [
      "Requirement already satisfied: absl-py==2.0.0 in c:\\users\\n0true\\appdata\\local\\packages\\pythonsoftwarefoundation.python.3.11_qbz5n2kfra8p0\\localcache\\local-packages\\python311\\site-packages (from -r requirements.txt (line 1)) (2.0.0)\n",
      "Requirement already satisfied: asttokens==2.4.1 in c:\\users\\n0true\\appdata\\local\\packages\\pythonsoftwarefoundation.python.3.11_qbz5n2kfra8p0\\localcache\\local-packages\\python311\\site-packages (from -r requirements.txt (line 2)) (2.4.1)\n",
      "Requirement already satisfied: astunparse==1.6.3 in c:\\users\\n0true\\appdata\\local\\packages\\pythonsoftwarefoundation.python.3.11_qbz5n2kfra8p0\\localcache\\local-packages\\python311\\site-packages (from -r requirements.txt (line 3)) (1.6.3)\n",
      "Requirement already satisfied: blinker==1.8.2 in c:\\users\\n0true\\appdata\\local\\packages\\pythonsoftwarefoundation.python.3.11_qbz5n2kfra8p0\\localcache\\local-packages\\python311\\site-packages (from -r requirements.txt (line 4)) (1.8.2)\n",
      "Requirement already satisfied: cachetools==5.3.2 in c:\\users\\n0true\\appdata\\local\\packages\\pythonsoftwarefoundation.python.3.11_qbz5n2kfra8p0\\localcache\\local-packages\\python311\\site-packages (from -r requirements.txt (line 5)) (5.3.2)\n",
      "Requirement already satisfied: certifi==2023.11.17 in c:\\users\\n0true\\appdata\\local\\packages\\pythonsoftwarefoundation.python.3.11_qbz5n2kfra8p0\\localcache\\local-packages\\python311\\site-packages (from -r requirements.txt (line 6)) (2023.11.17)\n",
      "Requirement already satisfied: charset-normalizer==3.3.2 in c:\\users\\n0true\\appdata\\local\\packages\\pythonsoftwarefoundation.python.3.11_qbz5n2kfra8p0\\localcache\\local-packages\\python311\\site-packages (from -r requirements.txt (line 7)) (3.3.2)\n",
      "Requirement already satisfied: click==8.1.7 in c:\\users\\n0true\\appdata\\local\\packages\\pythonsoftwarefoundation.python.3.11_qbz5n2kfra8p0\\localcache\\local-packages\\python311\\site-packages (from -r requirements.txt (line 8)) (8.1.7)\n",
      "Requirement already satisfied: colorama==0.4.6 in c:\\users\\n0true\\appdata\\local\\packages\\pythonsoftwarefoundation.python.3.11_qbz5n2kfra8p0\\localcache\\local-packages\\python311\\site-packages (from -r requirements.txt (line 9)) (0.4.6)\n",
      "Requirement already satisfied: comm==0.2.0 in c:\\users\\n0true\\appdata\\local\\packages\\pythonsoftwarefoundation.python.3.11_qbz5n2kfra8p0\\localcache\\local-packages\\python311\\site-packages (from -r requirements.txt (line 10)) (0.2.0)\n",
      "Requirement already satisfied: debugpy==1.8.0 in c:\\users\\n0true\\appdata\\local\\packages\\pythonsoftwarefoundation.python.3.11_qbz5n2kfra8p0\\localcache\\local-packages\\python311\\site-packages (from -r requirements.txt (line 11)) (1.8.0)\n",
      "Requirement already satisfied: decorator==5.1.1 in c:\\users\\n0true\\appdata\\local\\packages\\pythonsoftwarefoundation.python.3.11_qbz5n2kfra8p0\\localcache\\local-packages\\python311\\site-packages (from -r requirements.txt (line 12)) (5.1.1)\n",
      "Requirement already satisfied: executing==2.0.1 in c:\\users\\n0true\\appdata\\local\\packages\\pythonsoftwarefoundation.python.3.11_qbz5n2kfra8p0\\localcache\\local-packages\\python311\\site-packages (from -r requirements.txt (line 13)) (2.0.1)\n",
      "Requirement already satisfied: Flask==3.0.3 in c:\\users\\n0true\\appdata\\local\\packages\\pythonsoftwarefoundation.python.3.11_qbz5n2kfra8p0\\localcache\\local-packages\\python311\\site-packages (from -r requirements.txt (line 14)) (3.0.3)\n",
      "Requirement already satisfied: flatbuffers==23.5.26 in c:\\users\\n0true\\appdata\\local\\packages\\pythonsoftwarefoundation.python.3.11_qbz5n2kfra8p0\\localcache\\local-packages\\python311\\site-packages (from -r requirements.txt (line 15)) (23.5.26)\n",
      "Requirement already satisfied: gast==0.5.4 in c:\\users\\n0true\\appdata\\local\\packages\\pythonsoftwarefoundation.python.3.11_qbz5n2kfra8p0\\localcache\\local-packages\\python311\\site-packages (from -r requirements.txt (line 16)) (0.5.4)\n",
      "Requirement already satisfied: google-auth==2.23.4 in c:\\users\\n0true\\appdata\\local\\packages\\pythonsoftwarefoundation.python.3.11_qbz5n2kfra8p0\\localcache\\local-packages\\python311\\site-packages (from -r requirements.txt (line 17)) (2.23.4)\n",
      "Requirement already satisfied: google-auth-oauthlib==1.1.0 in c:\\users\\n0true\\appdata\\local\\packages\\pythonsoftwarefoundation.python.3.11_qbz5n2kfra8p0\\localcache\\local-packages\\python311\\site-packages (from -r requirements.txt (line 18)) (1.1.0)\n",
      "Requirement already satisfied: google-pasta==0.2.0 in c:\\users\\n0true\\appdata\\local\\packages\\pythonsoftwarefoundation.python.3.11_qbz5n2kfra8p0\\localcache\\local-packages\\python311\\site-packages (from -r requirements.txt (line 19)) (0.2.0)\n",
      "Requirement already satisfied: grpcio==1.59.3 in c:\\users\\n0true\\appdata\\local\\packages\\pythonsoftwarefoundation.python.3.11_qbz5n2kfra8p0\\localcache\\local-packages\\python311\\site-packages (from -r requirements.txt (line 20)) (1.59.3)\n",
      "Requirement already satisfied: h5py==3.10.0 in c:\\users\\n0true\\appdata\\local\\packages\\pythonsoftwarefoundation.python.3.11_qbz5n2kfra8p0\\localcache\\local-packages\\python311\\site-packages (from -r requirements.txt (line 21)) (3.10.0)\n",
      "Requirement already satisfied: idna==3.4 in c:\\users\\n0true\\appdata\\local\\packages\\pythonsoftwarefoundation.python.3.11_qbz5n2kfra8p0\\localcache\\local-packages\\python311\\site-packages (from -r requirements.txt (line 22)) (3.4)\n",
      "Requirement already satisfied: ipykernel==6.29.5 in c:\\users\\n0true\\appdata\\local\\packages\\pythonsoftwarefoundation.python.3.11_qbz5n2kfra8p0\\localcache\\local-packages\\python311\\site-packages (from -r requirements.txt (line 23)) (6.29.5)\n",
      "Requirement already satisfied: ipython==8.18.0 in c:\\users\\n0true\\appdata\\local\\packages\\pythonsoftwarefoundation.python.3.11_qbz5n2kfra8p0\\localcache\\local-packages\\python311\\site-packages (from -r requirements.txt (line 24)) (8.18.0)\n",
      "Requirement already satisfied: itsdangerous==2.2.0 in c:\\users\\n0true\\appdata\\local\\packages\\pythonsoftwarefoundation.python.3.11_qbz5n2kfra8p0\\localcache\\local-packages\\python311\\site-packages (from -r requirements.txt (line 25)) (2.2.0)\n",
      "Requirement already satisfied: jedi==0.19.1 in c:\\users\\n0true\\appdata\\local\\packages\\pythonsoftwarefoundation.python.3.11_qbz5n2kfra8p0\\localcache\\local-packages\\python311\\site-packages (from -r requirements.txt (line 26)) (0.19.1)\n",
      "Requirement already satisfied: Jinja2==3.1.4 in c:\\users\\n0true\\appdata\\local\\packages\\pythonsoftwarefoundation.python.3.11_qbz5n2kfra8p0\\localcache\\local-packages\\python311\\site-packages (from -r requirements.txt (line 27)) (3.1.4)\n",
      "Requirement already satisfied: joblib==1.4.2 in c:\\users\\n0true\\appdata\\local\\packages\\pythonsoftwarefoundation.python.3.11_qbz5n2kfra8p0\\localcache\\local-packages\\python311\\site-packages (from -r requirements.txt (line 28)) (1.4.2)\n",
      "Requirement already satisfied: jupyter_client==8.6.0 in c:\\users\\n0true\\appdata\\local\\packages\\pythonsoftwarefoundation.python.3.11_qbz5n2kfra8p0\\localcache\\local-packages\\python311\\site-packages (from -r requirements.txt (line 29)) (8.6.0)\n",
      "Requirement already satisfied: jupyter_core==5.5.0 in c:\\users\\n0true\\appdata\\local\\packages\\pythonsoftwarefoundation.python.3.11_qbz5n2kfra8p0\\localcache\\local-packages\\python311\\site-packages (from -r requirements.txt (line 30)) (5.5.0)\n",
      "Requirement already satisfied: keras==2.15.0 in c:\\users\\n0true\\appdata\\local\\packages\\pythonsoftwarefoundation.python.3.11_qbz5n2kfra8p0\\localcache\\local-packages\\python311\\site-packages (from -r requirements.txt (line 31)) (2.15.0)\n",
      "Requirement already satisfied: keras-tuner==1.4.7 in c:\\users\\n0true\\appdata\\local\\packages\\pythonsoftwarefoundation.python.3.11_qbz5n2kfra8p0\\localcache\\local-packages\\python311\\site-packages (from -r requirements.txt (line 32)) (1.4.7)\n",
      "Requirement already satisfied: kt-legacy==1.0.5 in c:\\users\\n0true\\appdata\\local\\packages\\pythonsoftwarefoundation.python.3.11_qbz5n2kfra8p0\\localcache\\local-packages\\python311\\site-packages (from -r requirements.txt (line 33)) (1.0.5)\n",
      "Requirement already satisfied: libclang==16.0.6 in c:\\users\\n0true\\appdata\\local\\packages\\pythonsoftwarefoundation.python.3.11_qbz5n2kfra8p0\\localcache\\local-packages\\python311\\site-packages (from -r requirements.txt (line 34)) (16.0.6)\n",
      "Requirement already satisfied: Markdown==3.5.1 in c:\\users\\n0true\\appdata\\local\\packages\\pythonsoftwarefoundation.python.3.11_qbz5n2kfra8p0\\localcache\\local-packages\\python311\\site-packages (from -r requirements.txt (line 35)) (3.5.1)\n",
      "Requirement already satisfied: MarkupSafe==2.1.3 in c:\\users\\n0true\\appdata\\local\\packages\\pythonsoftwarefoundation.python.3.11_qbz5n2kfra8p0\\localcache\\local-packages\\python311\\site-packages (from -r requirements.txt (line 36)) (2.1.3)\n",
      "Requirement already satisfied: matplotlib-inline==0.1.6 in c:\\users\\n0true\\appdata\\local\\packages\\pythonsoftwarefoundation.python.3.11_qbz5n2kfra8p0\\localcache\\local-packages\\python311\\site-packages (from -r requirements.txt (line 37)) (0.1.6)\n",
      "Requirement already satisfied: ml-dtypes==0.2.0 in c:\\users\\n0true\\appdata\\local\\packages\\pythonsoftwarefoundation.python.3.11_qbz5n2kfra8p0\\localcache\\local-packages\\python311\\site-packages (from -r requirements.txt (line 38)) (0.2.0)\n",
      "Requirement already satisfied: nest-asyncio==1.5.8 in c:\\users\\n0true\\appdata\\local\\packages\\pythonsoftwarefoundation.python.3.11_qbz5n2kfra8p0\\localcache\\local-packages\\python311\\site-packages (from -r requirements.txt (line 39)) (1.5.8)\n",
      "Requirement already satisfied: numpy==1.26.2 in c:\\users\\n0true\\appdata\\local\\packages\\pythonsoftwarefoundation.python.3.11_qbz5n2kfra8p0\\localcache\\local-packages\\python311\\site-packages (from -r requirements.txt (line 40)) (1.26.2)\n",
      "Requirement already satisfied: oauthlib==3.2.2 in c:\\users\\n0true\\appdata\\local\\packages\\pythonsoftwarefoundation.python.3.11_qbz5n2kfra8p0\\localcache\\local-packages\\python311\\site-packages (from -r requirements.txt (line 41)) (3.2.2)\n",
      "Requirement already satisfied: opt-einsum==3.3.0 in c:\\users\\n0true\\appdata\\local\\packages\\pythonsoftwarefoundation.python.3.11_qbz5n2kfra8p0\\localcache\\local-packages\\python311\\site-packages (from -r requirements.txt (line 42)) (3.3.0)\n",
      "Requirement already satisfied: packaging==23.2 in c:\\users\\n0true\\appdata\\local\\packages\\pythonsoftwarefoundation.python.3.11_qbz5n2kfra8p0\\localcache\\local-packages\\python311\\site-packages (from -r requirements.txt (line 43)) (23.2)\n",
      "Requirement already satisfied: pandas==2.2.3 in c:\\users\\n0true\\appdata\\local\\packages\\pythonsoftwarefoundation.python.3.11_qbz5n2kfra8p0\\localcache\\local-packages\\python311\\site-packages (from -r requirements.txt (line 44)) (2.2.3)\n",
      "Requirement already satisfied: parso==0.8.3 in c:\\users\\n0true\\appdata\\local\\packages\\pythonsoftwarefoundation.python.3.11_qbz5n2kfra8p0\\localcache\\local-packages\\python311\\site-packages (from -r requirements.txt (line 45)) (0.8.3)\n",
      "Requirement already satisfied: platformdirs==4.0.0 in c:\\users\\n0true\\appdata\\local\\packages\\pythonsoftwarefoundation.python.3.11_qbz5n2kfra8p0\\localcache\\local-packages\\python311\\site-packages (from -r requirements.txt (line 46)) (4.0.0)\n",
      "Requirement already satisfied: prompt-toolkit==3.0.41 in c:\\users\\n0true\\appdata\\local\\packages\\pythonsoftwarefoundation.python.3.11_qbz5n2kfra8p0\\localcache\\local-packages\\python311\\site-packages (from -r requirements.txt (line 47)) (3.0.41)\n",
      "Requirement already satisfied: protobuf==4.23.4 in c:\\users\\n0true\\appdata\\local\\packages\\pythonsoftwarefoundation.python.3.11_qbz5n2kfra8p0\\localcache\\local-packages\\python311\\site-packages (from -r requirements.txt (line 48)) (4.23.4)\n",
      "Requirement already satisfied: psutil==5.9.6 in c:\\users\\n0true\\appdata\\local\\packages\\pythonsoftwarefoundation.python.3.11_qbz5n2kfra8p0\\localcache\\local-packages\\python311\\site-packages (from -r requirements.txt (line 49)) (5.9.6)\n",
      "Requirement already satisfied: pure-eval==0.2.2 in c:\\users\\n0true\\appdata\\local\\packages\\pythonsoftwarefoundation.python.3.11_qbz5n2kfra8p0\\localcache\\local-packages\\python311\\site-packages (from -r requirements.txt (line 50)) (0.2.2)\n",
      "Requirement already satisfied: pyasn1==0.5.1 in c:\\users\\n0true\\appdata\\local\\packages\\pythonsoftwarefoundation.python.3.11_qbz5n2kfra8p0\\localcache\\local-packages\\python311\\site-packages (from -r requirements.txt (line 51)) (0.5.1)\n",
      "Requirement already satisfied: pyasn1-modules==0.3.0 in c:\\users\\n0true\\appdata\\local\\packages\\pythonsoftwarefoundation.python.3.11_qbz5n2kfra8p0\\localcache\\local-packages\\python311\\site-packages (from -r requirements.txt (line 52)) (0.3.0)\n",
      "Requirement already satisfied: Pygments==2.17.2 in c:\\users\\n0true\\appdata\\local\\packages\\pythonsoftwarefoundation.python.3.11_qbz5n2kfra8p0\\localcache\\local-packages\\python311\\site-packages (from -r requirements.txt (line 53)) (2.17.2)\n",
      "Requirement already satisfied: python-dateutil==2.8.2 in c:\\users\\n0true\\appdata\\local\\packages\\pythonsoftwarefoundation.python.3.11_qbz5n2kfra8p0\\localcache\\local-packages\\python311\\site-packages (from -r requirements.txt (line 54)) (2.8.2)\n",
      "Requirement already satisfied: pytz==2024.2 in c:\\users\\n0true\\appdata\\local\\packages\\pythonsoftwarefoundation.python.3.11_qbz5n2kfra8p0\\localcache\\local-packages\\python311\\site-packages (from -r requirements.txt (line 55)) (2024.2)\n",
      "Requirement already satisfied: pywin32==306 in c:\\users\\n0true\\appdata\\local\\packages\\pythonsoftwarefoundation.python.3.11_qbz5n2kfra8p0\\localcache\\local-packages\\python311\\site-packages (from -r requirements.txt (line 56)) (306)\n",
      "Requirement already satisfied: pyzmq==25.1.1 in c:\\users\\n0true\\appdata\\local\\packages\\pythonsoftwarefoundation.python.3.11_qbz5n2kfra8p0\\localcache\\local-packages\\python311\\site-packages (from -r requirements.txt (line 57)) (25.1.1)\n",
      "Requirement already satisfied: requests==2.31.0 in c:\\users\\n0true\\appdata\\local\\packages\\pythonsoftwarefoundation.python.3.11_qbz5n2kfra8p0\\localcache\\local-packages\\python311\\site-packages (from -r requirements.txt (line 58)) (2.31.0)\n",
      "Requirement already satisfied: requests-oauthlib==1.3.1 in c:\\users\\n0true\\appdata\\local\\packages\\pythonsoftwarefoundation.python.3.11_qbz5n2kfra8p0\\localcache\\local-packages\\python311\\site-packages (from -r requirements.txt (line 59)) (1.3.1)\n",
      "Requirement already satisfied: rsa==4.9 in c:\\users\\n0true\\appdata\\local\\packages\\pythonsoftwarefoundation.python.3.11_qbz5n2kfra8p0\\localcache\\local-packages\\python311\\site-packages (from -r requirements.txt (line 60)) (4.9)\n",
      "Requirement already satisfied: scikit-learn==1.5.2 in c:\\users\\n0true\\appdata\\local\\packages\\pythonsoftwarefoundation.python.3.11_qbz5n2kfra8p0\\localcache\\local-packages\\python311\\site-packages (from -r requirements.txt (line 61)) (1.5.2)\n",
      "Requirement already satisfied: scipy==1.14.1 in c:\\users\\n0true\\appdata\\local\\packages\\pythonsoftwarefoundation.python.3.11_qbz5n2kfra8p0\\localcache\\local-packages\\python311\\site-packages (from -r requirements.txt (line 62)) (1.14.1)\n",
      "Requirement already satisfied: six==1.16.0 in c:\\users\\n0true\\appdata\\local\\packages\\pythonsoftwarefoundation.python.3.11_qbz5n2kfra8p0\\localcache\\local-packages\\python311\\site-packages (from -r requirements.txt (line 63)) (1.16.0)\n",
      "Requirement already satisfied: stack-data==0.6.3 in c:\\users\\n0true\\appdata\\local\\packages\\pythonsoftwarefoundation.python.3.11_qbz5n2kfra8p0\\localcache\\local-packages\\python311\\site-packages (from -r requirements.txt (line 64)) (0.6.3)\n",
      "Requirement already satisfied: tensorboard==2.15.1 in c:\\users\\n0true\\appdata\\local\\packages\\pythonsoftwarefoundation.python.3.11_qbz5n2kfra8p0\\localcache\\local-packages\\python311\\site-packages (from -r requirements.txt (line 65)) (2.15.1)\n",
      "Requirement already satisfied: tensorboard-data-server==0.7.2 in c:\\users\\n0true\\appdata\\local\\packages\\pythonsoftwarefoundation.python.3.11_qbz5n2kfra8p0\\localcache\\local-packages\\python311\\site-packages (from -r requirements.txt (line 66)) (0.7.2)\n",
      "Requirement already satisfied: tensorflow-estimator==2.15.0 in c:\\users\\n0true\\appdata\\local\\packages\\pythonsoftwarefoundation.python.3.11_qbz5n2kfra8p0\\localcache\\local-packages\\python311\\site-packages (from -r requirements.txt (line 67)) (2.15.0)\n",
      "Requirement already satisfied: tensorflow-io-gcs-filesystem==0.31.0 in c:\\users\\n0true\\appdata\\local\\packages\\pythonsoftwarefoundation.python.3.11_qbz5n2kfra8p0\\localcache\\local-packages\\python311\\site-packages (from -r requirements.txt (line 68)) (0.31.0)\n",
      "Requirement already satisfied: termcolor==2.3.0 in c:\\users\\n0true\\appdata\\local\\packages\\pythonsoftwarefoundation.python.3.11_qbz5n2kfra8p0\\localcache\\local-packages\\python311\\site-packages (from -r requirements.txt (line 69)) (2.3.0)\n",
      "Requirement already satisfied: threadpoolctl==3.5.0 in c:\\users\\n0true\\appdata\\local\\packages\\pythonsoftwarefoundation.python.3.11_qbz5n2kfra8p0\\localcache\\local-packages\\python311\\site-packages (from -r requirements.txt (line 70)) (3.5.0)\n",
      "Requirement already satisfied: tornado==6.3.3 in c:\\users\\n0true\\appdata\\local\\packages\\pythonsoftwarefoundation.python.3.11_qbz5n2kfra8p0\\localcache\\local-packages\\python311\\site-packages (from -r requirements.txt (line 71)) (6.3.3)\n",
      "Requirement already satisfied: tqdm==4.66.5 in c:\\users\\n0true\\appdata\\local\\packages\\pythonsoftwarefoundation.python.3.11_qbz5n2kfra8p0\\localcache\\local-packages\\python311\\site-packages (from -r requirements.txt (line 72)) (4.66.5)\n",
      "Requirement already satisfied: traitlets==5.13.0 in c:\\users\\n0true\\appdata\\local\\packages\\pythonsoftwarefoundation.python.3.11_qbz5n2kfra8p0\\localcache\\local-packages\\python311\\site-packages (from -r requirements.txt (line 73)) (5.13.0)\n",
      "Requirement already satisfied: typing_extensions==4.8.0 in c:\\users\\n0true\\appdata\\local\\packages\\pythonsoftwarefoundation.python.3.11_qbz5n2kfra8p0\\localcache\\local-packages\\python311\\site-packages (from -r requirements.txt (line 74)) (4.8.0)\n",
      "Requirement already satisfied: tzdata==2024.2 in c:\\users\\n0true\\appdata\\local\\packages\\pythonsoftwarefoundation.python.3.11_qbz5n2kfra8p0\\localcache\\local-packages\\python311\\site-packages (from -r requirements.txt (line 75)) (2024.2)\n",
      "Requirement already satisfied: urllib3==2.1.0 in c:\\users\\n0true\\appdata\\local\\packages\\pythonsoftwarefoundation.python.3.11_qbz5n2kfra8p0\\localcache\\local-packages\\python311\\site-packages (from -r requirements.txt (line 76)) (2.1.0)\n",
      "Requirement already satisfied: wcwidth==0.2.12 in c:\\users\\n0true\\appdata\\local\\packages\\pythonsoftwarefoundation.python.3.11_qbz5n2kfra8p0\\localcache\\local-packages\\python311\\site-packages (from -r requirements.txt (line 77)) (0.2.12)\n",
      "Requirement already satisfied: Werkzeug==3.0.1 in c:\\users\\n0true\\appdata\\local\\packages\\pythonsoftwarefoundation.python.3.11_qbz5n2kfra8p0\\localcache\\local-packages\\python311\\site-packages (from -r requirements.txt (line 78)) (3.0.1)\n",
      "Requirement already satisfied: wrapt==1.14.1 in c:\\users\\n0true\\appdata\\local\\packages\\pythonsoftwarefoundation.python.3.11_qbz5n2kfra8p0\\localcache\\local-packages\\python311\\site-packages (from -r requirements.txt (line 79)) (1.14.1)\n",
      "Requirement already satisfied: wheel<1.0,>=0.23.0 in c:\\users\\n0true\\appdata\\local\\packages\\pythonsoftwarefoundation.python.3.11_qbz5n2kfra8p0\\localcache\\local-packages\\python311\\site-packages (from astunparse==1.6.3->-r requirements.txt (line 3)) (0.41.3)\n",
      "Requirement already satisfied: setuptools>=41.0.0 in c:\\program files\\windowsapps\\pythonsoftwarefoundation.python.3.11_3.11.2544.0_x64__qbz5n2kfra8p0\\lib\\site-packages (from tensorboard==2.15.1->-r requirements.txt (line 65)) (65.5.0)\n"
     ]
    },
    {
     "name": "stderr",
     "output_type": "stream",
     "text": [
      "\n",
      "[notice] A new release of pip is available: 24.0 -> 24.3.1\n",
      "[notice] To update, run: C:\\Users\\N0trUe\\AppData\\Local\\Microsoft\\WindowsApps\\PythonSoftwareFoundation.Python.3.11_qbz5n2kfra8p0\\python.exe -m pip install --upgrade pip\n"
     ]
    }
   ],
   "source": [
    "!pip3 freeze > requirements.txt\n",
    "!pip3 install -r requirements.txt"
   ]
  },
  {
   "cell_type": "code",
   "execution_count": 3,
   "metadata": {},
   "outputs": [
    {
     "name": "stdout",
     "output_type": "stream",
     "text": [
      "Requirement already satisfied: tqdm in c:\\users\\n0true\\appdata\\local\\packages\\pythonsoftwarefoundation.python.3.11_qbz5n2kfra8p0\\localcache\\local-packages\\python311\\site-packages (4.66.5)\n",
      "Requirement already satisfied: colorama in c:\\users\\n0true\\appdata\\local\\packages\\pythonsoftwarefoundation.python.3.11_qbz5n2kfra8p0\\localcache\\local-packages\\python311\\site-packages (from tqdm) (0.4.6)\n"
     ]
    },
    {
     "name": "stderr",
     "output_type": "stream",
     "text": [
      "\n",
      "[notice] A new release of pip is available: 24.0 -> 24.3.1\n",
      "[notice] To update, run: C:\\Users\\N0trUe\\AppData\\Local\\Microsoft\\WindowsApps\\PythonSoftwareFoundation.Python.3.11_qbz5n2kfra8p0\\python.exe -m pip install --upgrade pip\n"
     ]
    }
   ],
   "source": [
    "!pip3 install tqdm"
   ]
  },
  {
   "cell_type": "code",
   "execution_count": null,
   "metadata": {},
   "outputs": [
    {
     "name": "stdout",
     "output_type": "stream",
     "text": [
      "pip 24.0 from C:\\Program Files\\WindowsApps\\PythonSoftwareFoundation.Python.3.11_3.11.2544.0_x64__qbz5n2kfra8p0\\Lib\\site-packages\\pip (python 3.11)\n",
      "\n"
     ]
    }
   ],
   "source": [
    "!pip3 --version"
   ]
  },
  {
   "cell_type": "code",
   "execution_count": null,
   "metadata": {},
   "outputs": [
    {
     "name": "stdout",
     "output_type": "stream",
     "text": [
      "Loading model...\n",
      "Model loaded.\n",
      "Loading vectorizer...\n",
      "Vectorizer loaded.\n",
      " * Serving Flask app '__main__'\n",
      " * Debug mode: off\n"
     ]
    }
   ],
   "source": [
    "from flask import Flask, request, jsonify\n",
    "import joblib\n",
    "from sklearn.feature_extraction.text import TfidfVectorizer\n",
    "from collections import defaultdict\n",
    "from scipy.sparse import hstack\n",
    "import numpy as np\n",
    "import logging\n",
    "\n",
    "# Initialize Flask app\n",
    "app = Flask(__name__)\n",
    "\n",
    "# Set up logging to a file\n",
    "logging.basicConfig(filename='app.log', level=logging.ERROR, format='%(asctime)s %(levelname)s: %(message)s')\n",
    "\n",
    "# Load the trained model and vectorizer\n",
    "try:\n",
    "    print(\"Loading model...\")\n",
    "    model = joblib.load('fine_tuned_ensemble_model2.pkl')\n",
    "    print(\"Model loaded.\")\n",
    "\n",
    "    print(\"Loading vectorizer...\")\n",
    "    vectorizer = joblib.load('vectorizer2.pkl')\n",
    "    print(\"Vectorizer loaded.\")\n",
    "except Exception as e:\n",
    "    app.logger.error(f\"Error loading model or vectorizer: {e}\")\n",
    "    raise e\n",
    "\n",
    "# Initialize a dictionary to track counts of logs by IP and URL\n",
    "log_counts = defaultdict(lambda: defaultdict(int))  # {ip: {url: count}}\n",
    "\n",
    "# Helper function to parse individual log entry\n",
    "def parse_log_entry(log):\n",
    "    try:\n",
    "        # Try splitting by `|` first\n",
    "        if '|' in log:\n",
    "            parts = log.split(\"|\")\n",
    "        else:\n",
    "            # Fall back to space splitting if `|` is not found\n",
    "            parts = log.split(\" \")\n",
    "\n",
    "        if len(parts) < 6:\n",
    "            raise ValueError(\"Log entry does not contain enough parts\")\n",
    "\n",
    "        ip = parts[0]\n",
    "        method = parts[1]\n",
    "        url = parts[2]\n",
    "        status = parts[3]\n",
    "        size = parts[4]\n",
    "        referer = parts[5] if parts[5] != '-' else '-'\n",
    "\n",
    "        structured_log = f\"{ip} {method} {url} {status} {size} {referer}\"\n",
    "        return ip, url, structured_log\n",
    "\n",
    "    except (IndexError, ValueError) as e:\n",
    "        print(f\"Skipping malformed log entry: {log} - Error: {e}\")\n",
    "        return None, None, None\n",
    "\n",
    "\n",
    "# Route to predict a single log entry (POST method)\n",
    "@app.route('/predict', methods=['POST'])\n",
    "def predict_log():\n",
    "    try:\n",
    "        data = request.json\n",
    "        log = data.get('log')\n",
    "\n",
    "        if not log:\n",
    "            return jsonify({'error': 'No log entry provided'}), 400\n",
    "\n",
    "        # Parse the log and handle malformed cases\n",
    "        ip, url, parsed_log = parse_log_entry(log)\n",
    "        if not parsed_log:\n",
    "            return jsonify({'error': 'Invalid log format'}), 400\n",
    "\n",
    "        # Get the current count for this IP-URL pair\n",
    "        count = log_counts[ip][url]  # Use current count without incrementing\n",
    "\n",
    "        # Transform the log and combine with the count feature\n",
    "        X_text = vectorizer.transform([parsed_log])\n",
    "        X_count = np.array([[count]])\n",
    "        X_test = hstack((X_text, X_count))\n",
    "\n",
    "        # Predict the label using the model\n",
    "        prediction = model.predict(X_test)[0]\n",
    "        label_mapping = {0: 'normal', 1: 'suspicious status', 2: 'bypass', 3: 'brute force'}\n",
    "        predicted_label = label_mapping.get(prediction, 'unknown')\n",
    "\n",
    "        # Increment the count after prediction\n",
    "        log_counts[ip][url] += 1\n",
    "\n",
    "        # Return the result\n",
    "        result = {\n",
    "            'log': log,\n",
    "            'count': count + 1,  # Report the new count after increment\n",
    "            'predicted_label': predicted_label\n",
    "        }\n",
    "        return jsonify(result)\n",
    "\n",
    "    except Exception as e:\n",
    "        app.logger.error(f\"Error in /predict route: {e}\")\n",
    "        return jsonify({'error': 'Internal Server Error'}), 500\n",
    "\n",
    "# Route to reset the log counts\n",
    "@app.route('/reset', methods=['POST'])\n",
    "def reset_counts():\n",
    "    global log_counts\n",
    "    log_counts = defaultdict(lambda: defaultdict(int))\n",
    "    return jsonify({'message': 'Log counts reset successfully'})\n",
    "\n",
    "# Route to test if API is running\n",
    "@app.route('/', methods=['GET'])\n",
    "def home():\n",
    "    try:\n",
    "        return \"Threat Classification API is running!\"\n",
    "    except Exception as e:\n",
    "        app.logger.error(f\"Error in / route: {e}\")\n",
    "        return jsonify({'error': 'Internal Server Error'}), 500\n",
    "\n",
    "# New GET method to predict log entry through query parameters\n",
    "@app.route('/predict_get', methods=['GET'])\n",
    "def predict_log_get():\n",
    "    try:\n",
    "        log = request.args.get('log')\n",
    "\n",
    "        if not log:\n",
    "            return jsonify({'error': 'No log entry provided'}), 400\n",
    "\n",
    "        # Parse the log and handle malformed cases\n",
    "        ip, url, parsed_log = parse_log_entry(log)\n",
    "        if not parsed_log:\n",
    "            return jsonify({'error': 'Invalid log format'}), 400\n",
    "\n",
    "        # Get the current count for this IP-URL pair\n",
    "        count = log_counts[ip][url]\n",
    "\n",
    "        # Transform the log and combine with the count feature\n",
    "        X_text = vectorizer.transform([parsed_log])\n",
    "        X_count = np.array([[count]])\n",
    "        X_test = hstack((X_text, X_count))\n",
    "\n",
    "        # Predict the label using the model\n",
    "        prediction = model.predict(X_test)[0]\n",
    "        label_mapping = {0: 'normal', 1: 'suspicious status', 2: 'bypass', 3: 'brute force'}\n",
    "        predicted_label = label_mapping.get(prediction, 'unknown')\n",
    "\n",
    "        # Increment the count after prediction\n",
    "        log_counts[ip][url] += 1\n",
    "\n",
    "        # Return the result\n",
    "        result = {\n",
    "            'log': log,\n",
    "            'count': count + 1,\n",
    "            'predicted_label': predicted_label\n",
    "        }\n",
    "        return jsonify(result)\n",
    "\n",
    "    except Exception as e:\n",
    "        app.logger.error(f\"Error in /predict_get route: {e}\")\n",
    "        return jsonify({'error': 'Internal Server Error'}), 500\n",
    "\n",
    "# Run the Flask app\n",
    "if __name__ == '__main__':\n",
    "    app.run(host='127.0.0.1', port=8080)"
   ]
  }
 ],
 "metadata": {
  "kernelspec": {
   "display_name": "Python 3",
   "language": "python",
   "name": "python3"
  },
  "language_info": {
   "codemirror_mode": {
    "name": "ipython",
    "version": 3
   },
   "file_extension": ".py",
   "mimetype": "text/x-python",
   "name": "python",
   "nbconvert_exporter": "python",
   "pygments_lexer": "ipython3",
   "version": "3.11.9"
  }
 },
 "nbformat": 4,
 "nbformat_minor": 2
}
